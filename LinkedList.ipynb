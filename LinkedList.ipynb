{
  "nbformat": 4,
  "nbformat_minor": 0,
  "metadata": {
    "colab": {
      "provenance": [],
      "authorship_tag": "ABX9TyMYhoVtTc0jMJLAisTUskZA",
      "include_colab_link": true
    },
    "kernelspec": {
      "name": "python3",
      "display_name": "Python 3"
    },
    "language_info": {
      "name": "python"
    }
  },
  "cells": [
    {
      "cell_type": "markdown",
      "metadata": {
        "id": "view-in-github",
        "colab_type": "text"
      },
      "source": [
        "<a href=\"https://colab.research.google.com/github/AdarshaCoding/dsa-in-python/blob/main/LinkedList.ipynb\" target=\"_parent\"><img src=\"https://colab.research.google.com/assets/colab-badge.svg\" alt=\"Open In Colab\"/></a>"
      ]
    },
    {
      "cell_type": "code",
      "source": [
        "class Node:\n",
        "  def __init__(self, data) -> None:\n",
        "    self.data = data\n",
        "    self.next = None\n",
        "\n",
        "class LinkedList:\n",
        "  def __init__(self) -> None:\n",
        "    self.head = None\n",
        "    self.n = 0\n",
        "\n",
        "  def __str__(self):\n",
        "    current = self.head\n",
        "    elements = []\n",
        "    while current:\n",
        "      elements.append(str(current.data))\n",
        "      current = current.next\n",
        "    return \" -> \".join(elements) + \" -> None\"\n",
        "\n",
        "  def __len__(self):\n",
        "    return self.n\n",
        "\n",
        "  def insert_at_last(self, data):\n",
        "    new_node = Node(data)\n",
        "\n",
        "    if self.head is None:\n",
        "      self.head = new_node\n",
        "      self.n = self.n + 1\n",
        "      return\n",
        "\n",
        "    current = self.head\n",
        "    while current.next:\n",
        "      current = current.next\n",
        "    current.next = new_node\n",
        "    self.n = self.n + 1\n",
        "\n",
        "\n",
        "  def insert_at_first(self, data):\n",
        "    new_node = Node(data)\n",
        "    if self.head is None:\n",
        "      self.head = new_node\n",
        "      self.n = self.n + 1\n",
        "      return\n",
        "\n",
        "    new_node.next = self.head\n",
        "    self.head = new_node\n",
        "    self.n = self.n + 1\n",
        "\n",
        "\n",
        "  def insert_after(self, data, target_value):\n",
        "    new_node = Node(data)\n",
        "    if self.head is None:\n",
        "      print(\"List is empty!\")\n",
        "      return\n",
        "\n",
        "    current = self.head\n",
        "    while current.next:\n",
        "      if current.data == target_value:\n",
        "        break\n",
        "      current = current.next\n",
        "\n",
        "    if current.next is None:\n",
        "      print(\"Target value is not found!\")\n",
        "    else:\n",
        "      new_node.next = current.next\n",
        "      current.next = new_node\n",
        "      self.n = self.n + 1\n",
        "\n",
        "\n",
        "  def print_list(self):\n",
        "    current = self.head\n",
        "    while current:\n",
        "      print(current.data, end=\" -> \")\n",
        "      current = current.next\n",
        "    print(\"None\")\n"
      ],
      "metadata": {
        "id": "MAmWt76pavtd"
      },
      "execution_count": 43,
      "outputs": []
    },
    {
      "cell_type": "code",
      "source": [
        "ll = LinkedList()\n",
        "ll.insert_at_last(10)\n",
        "ll.insert_at_last(20)\n",
        "ll.insert_at_last(30)\n",
        "ll.insert_at_first(50)\n",
        "ll.insert_at_first(60)\n",
        "ll.print_list()\n",
        "print(len(ll))\n",
        "ll.insert_after(77, 70)\n",
        "print(ll)\n",
        "print(len(ll))\n"
      ],
      "metadata": {
        "colab": {
          "base_uri": "https://localhost:8080/"
        },
        "id": "OSmfQBwsciOa",
        "outputId": "cd7fcb3f-71f7-4a32-de2c-decb0ae2af63"
      },
      "execution_count": 46,
      "outputs": [
        {
          "output_type": "stream",
          "name": "stdout",
          "text": [
            "60 -> 50 -> 10 -> 20 -> 30 -> None\n",
            "5\n",
            "Target value is not found!\n",
            "60 -> 50 -> 10 -> 20 -> 30 -> None\n",
            "5\n"
          ]
        }
      ]
    }
  ]
}