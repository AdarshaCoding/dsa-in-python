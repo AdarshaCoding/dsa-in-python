{
  "nbformat": 4,
  "nbformat_minor": 0,
  "metadata": {
    "colab": {
      "provenance": [],
      "authorship_tag": "ABX9TyOl+etmBdLTISei7lMTouTi",
      "include_colab_link": true
    },
    "kernelspec": {
      "name": "python3",
      "display_name": "Python 3"
    },
    "language_info": {
      "name": "python"
    }
  },
  "cells": [
    {
      "cell_type": "markdown",
      "metadata": {
        "id": "view-in-github",
        "colab_type": "text"
      },
      "source": [
        "<a href=\"https://colab.research.google.com/github/AdarshaCoding/dsa-in-python/blob/main/searhing_techniques_py.ipynb\" target=\"_parent\"><img src=\"https://colab.research.google.com/assets/colab-badge.svg\" alt=\"Open In Colab\"/></a>"
      ]
    },
    {
      "cell_type": "code",
      "source": [
        "L = [1, 2, 3, 4, 5]\n",
        "def linear_search(target):\n",
        "  for el in L:\n",
        "    if el == target:\n",
        "      return True\n",
        "  return False\n",
        "\n",
        "print(linear_search(3))\n",
        "#O(n)"
      ],
      "metadata": {
        "colab": {
          "base_uri": "https://localhost:8080/"
        },
        "id": "_PJF5mSrqzdL",
        "outputId": "7dda5674-c16e-4338-c398-c92864ac4a85"
      },
      "execution_count": 18,
      "outputs": [
        {
          "output_type": "stream",
          "name": "stdout",
          "text": [
            "True\n"
          ]
        }
      ]
    },
    {
      "cell_type": "code",
      "source": [
        "L = [1, 2, 3, 4, 5]\n",
        "def binary_search(target):\n",
        "  left = 0\n",
        "  right = len(L)-1\n",
        "\n",
        "  while left < right:\n",
        "    mid = (left + right) // 2\n",
        "    if L[mid] == target:\n",
        "      return mid\n",
        "    elif L[mid] < target:\n",
        "      left = mid + 1\n",
        "    else:\n",
        "      right = mid - 1\n",
        "  return False\n",
        "\n",
        "binary_search(1)\n",
        "#O(logn)"
      ],
      "metadata": {
        "colab": {
          "base_uri": "https://localhost:8080/"
        },
        "id": "oYE4JnoawfUy",
        "outputId": "feae6ed3-7d7e-46bb-9388-76b2cb5ab572"
      },
      "execution_count": 25,
      "outputs": [
        {
          "output_type": "execute_result",
          "data": {
            "text/plain": [
              "0"
            ]
          },
          "metadata": {},
          "execution_count": 25
        }
      ]
    }
  ]
}