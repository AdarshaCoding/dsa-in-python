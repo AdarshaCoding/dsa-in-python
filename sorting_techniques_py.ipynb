{
  "nbformat": 4,
  "nbformat_minor": 0,
  "metadata": {
    "colab": {
      "provenance": [],
      "authorship_tag": "ABX9TyOKsfcQuJyjROe46cBovqcg",
      "include_colab_link": true
    },
    "kernelspec": {
      "name": "python3",
      "display_name": "Python 3"
    },
    "language_info": {
      "name": "python"
    }
  },
  "cells": [
    {
      "cell_type": "markdown",
      "metadata": {
        "id": "view-in-github",
        "colab_type": "text"
      },
      "source": [
        "<a href=\"https://colab.research.google.com/github/AdarshaCoding/dsa-in-python/blob/main/sorting_techniques_py.ipynb\" target=\"_parent\"><img src=\"https://colab.research.google.com/assets/colab-badge.svg\" alt=\"Open In Colab\"/></a>"
      ]
    },
    {
      "cell_type": "code",
      "source": [
        "L = [5, 3, 4, 1, 2]\n",
        "\n",
        "def bubbel_sort(L):\n",
        "  for i in range(len(L)-1):\n",
        "    for j in range(len(L)-1):\n",
        "      if L[j] > L[j+1]:\n",
        "        L[j], L[j+1] = L[j+1], L[j]\n",
        "  return L\n",
        "\n",
        "print(bubbel_sort(L))\n",
        "#O(n**2)"
      ],
      "metadata": {
        "colab": {
          "base_uri": "https://localhost:8080/"
        },
        "id": "oYE4JnoawfUy",
        "outputId": "34cbfac1-7022-47d8-db72-ce6b87fa1496"
      },
      "execution_count": 32,
      "outputs": [
        {
          "output_type": "stream",
          "name": "stdout",
          "text": [
            "[1, 2, 3, 4, 5]\n"
          ]
        }
      ]
    },
    {
      "cell_type": "code",
      "source": [
        "L = [5, 3, 4, 1, 2]\n",
        "def selection_sort(L):\n",
        "  n = len(L)\n",
        "  for i in range(n):\n",
        "    min_index = i\n",
        "    for j in range(i+1, n):\n",
        "      if L[j] < L[min_index]:\n",
        "        min_index = j\n",
        "    L[i], L[min_index] = L[min_index], L[i]\n",
        "  return L\n",
        "print(selection_sort(L))\n",
        "#O(n**2)"
      ],
      "metadata": {
        "colab": {
          "base_uri": "https://localhost:8080/"
        },
        "id": "fyNkf49FytGx",
        "outputId": "57d6a600-dcd4-40c3-fcca-2460f6c6a23a"
      },
      "execution_count": 31,
      "outputs": [
        {
          "output_type": "stream",
          "name": "stdout",
          "text": [
            "[1, 2, 3, 4, 5]\n"
          ]
        }
      ]
    },
    {
      "cell_type": "code",
      "source": [
        "L = [4,1, 5,7,2,3, 4,1,4]\n",
        "def quick_sort(L):\n",
        "  if len(L) <= 1:\n",
        "    return L\n",
        "\n",
        "  pivot = L[-1]\n",
        "  left = [el for el in L[:-1] if el < pivot]\n",
        "  middle = [el for el in L[:-1] if el == pivot]\n",
        "  right = [el for el in L[:-1] if el > pivot]\n",
        "\n",
        "  return quick_sort(left) + middle+ [pivot] + quick_sort(right)\n",
        "\n",
        "print(quick_sort(L))"
      ],
      "metadata": {
        "colab": {
          "base_uri": "https://localhost:8080/"
        },
        "id": "0_mbONmu0B_n",
        "outputId": "ce2369a4-29c5-44d7-8e20-3f4ff18fd7d2"
      },
      "execution_count": 15,
      "outputs": [
        {
          "output_type": "stream",
          "name": "stdout",
          "text": [
            "[1, 1, 2, 3, 4, 4, 4, 5, 7]\n"
          ]
        }
      ]
    }
  ]
}