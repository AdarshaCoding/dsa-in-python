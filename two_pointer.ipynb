{
  "cells": [
    {
      "cell_type": "markdown",
      "metadata": {
        "id": "view-in-github",
        "colab_type": "text"
      },
      "source": [
        "<a href=\"https://colab.research.google.com/github/AdarshaCoding/dsa-in-python/blob/main/two_pointer.ipynb\" target=\"_parent\"><img src=\"https://colab.research.google.com/assets/colab-badge.svg\" alt=\"Open In Colab\"/></a>"
      ]
    },
    {
      "cell_type": "code",
      "source": [
        "# Reverse the array in place: Used two pointer approach\n",
        "L = [1, 2, 3, 4, 5]\n",
        "left = 0\n",
        "right = len(L) - 1\n",
        "while left <= right:\n",
        "  L[left], L[right] = L[right], L[left]\n",
        "  left += 1\n",
        "  right -=1\n",
        "print(L)\n",
        "#Time: O(n)"
      ],
      "metadata": {
        "id": "7eizuOn2oLyt",
        "outputId": "c2894b0c-4516-453d-c76a-90d002611507",
        "colab": {
          "base_uri": "https://localhost:8080/"
        }
      },
      "execution_count": 2,
      "outputs": [
        {
          "output_type": "stream",
          "name": "stdout",
          "text": [
            "[5, 4, 3, 2, 1]\n"
          ]
        }
      ]
    },
    {
      "cell_type": "code",
      "source": [
        "# Squares of a sorted array\n",
        "L = [-4, -1, 0, 3, 10]\n",
        "def sortedSquares(L):\n",
        "  left = 0\n",
        "  right = len(L) - 1\n",
        "  result = []\n",
        "  while left <= right:\n",
        "    if abs(L[left]) > abs(L[left]):\n",
        "      result.append(L[left] ** 2)\n",
        "      left +=1\n",
        "    else:\n",
        "      result.append(L[right] ** 2)\n",
        "      right -=1\n",
        "  result.reverse()\n",
        "  print(L)\n",
        "  print(result)\n",
        "\n",
        "sortedSquares(L)\n",
        "\n",
        "#Time : O(n)"
      ],
      "metadata": {
        "colab": {
          "base_uri": "https://localhost:8080/"
        },
        "id": "3WOE3bkbpJ1I",
        "outputId": "b235ceb7-db05-48bf-e37f-7a323a6f9e30"
      },
      "execution_count": 5,
      "outputs": [
        {
          "output_type": "stream",
          "name": "stdout",
          "text": [
            "[-4, -1, 0, 3, 10]\n",
            "[16, 1, 0, 9, 100]\n"
          ]
        }
      ]
    },
    {
      "cell_type": "code",
      "source": [
        "# Two sum\n",
        "L = [1, 2, 3, 4, 5, 6]\n",
        "def two_sum(L, target):\n",
        "  left = 0\n",
        "  right = len(L) - 1\n",
        "  while left < right:\n",
        "    sum = L[left] + L[right]\n",
        "    if sum == target:\n",
        "      return (left, right)\n",
        "    elif sum < target:\n",
        "      left += 1\n",
        "    else:\n",
        "      right -= 1\n",
        "target = 8\n",
        "print(two_sum(L, target))"
      ],
      "metadata": {
        "colab": {
          "base_uri": "https://localhost:8080/"
        },
        "id": "WChrac_lCxVh",
        "outputId": "da7f327e-44a6-4b44-e676-2faa1f4a1d6a"
      },
      "execution_count": 12,
      "outputs": [
        {
          "output_type": "stream",
          "name": "stdout",
          "text": [
            "(1, 5)\n"
          ]
        }
      ]
    },
    {
      "cell_type": "code",
      "source": [
        "# Two sum - collect all the pairs\n",
        "L = [1, 2, 3, 4, 5, 6]\n",
        "def two_sum(L, target):\n",
        "  left = 0\n",
        "  right = len(L) - 1\n",
        "  result = []\n",
        "  while left < right:\n",
        "    sum = L[left] + L[right]\n",
        "    if sum == target:\n",
        "      result.append((left, right))\n",
        "      left += 1\n",
        "      right -= 1\n",
        "    elif sum < target:\n",
        "      left += 1\n",
        "    else:\n",
        "      right -= 1\n",
        "  return result\n",
        "target = 8\n",
        "print(two_sum(L, target))"
      ],
      "metadata": {
        "colab": {
          "base_uri": "https://localhost:8080/"
        },
        "id": "N0VP2yCGFRnO",
        "outputId": "4c864ea6-6e7f-4238-deea-8b2e378b1cad"
      },
      "execution_count": 13,
      "outputs": [
        {
          "output_type": "stream",
          "name": "stdout",
          "text": [
            "[(1, 5), (2, 4)]\n"
          ]
        }
      ]
    }
  ],
  "metadata": {
    "colab": {
      "provenance": [],
      "include_colab_link": true
    },
    "kernelspec": {
      "display_name": "Python 3",
      "name": "python3"
    }
  },
  "nbformat": 4,
  "nbformat_minor": 0
}