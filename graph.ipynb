{
  "nbformat": 4,
  "nbformat_minor": 0,
  "metadata": {
    "colab": {
      "provenance": [],
      "toc_visible": true,
      "authorship_tag": "ABX9TyOL1x8i/E7OOIx0VKFNNdEx",
      "include_colab_link": true
    },
    "kernelspec": {
      "name": "python3",
      "display_name": "Python 3"
    },
    "language_info": {
      "name": "python"
    }
  },
  "cells": [
    {
      "cell_type": "markdown",
      "metadata": {
        "id": "view-in-github",
        "colab_type": "text"
      },
      "source": [
        "<a href=\"https://colab.research.google.com/github/AdarshaCoding/dsa-in-python/blob/main/graph.ipynb\" target=\"_parent\"><img src=\"https://colab.research.google.com/assets/colab-badge.svg\" alt=\"Open In Colab\"/></a>"
      ]
    },
    {
      "cell_type": "code",
      "source": [
        "# Array of Edges (directed) [start, end]\n",
        "n = 8\n",
        "A = [[0, 1], [1, 2], [0, 3], [3, 4], [3, 6], [3, 7], [4, 2], [4, 5], [5, 2]]\n",
        "A"
      ],
      "metadata": {
        "colab": {
          "base_uri": "https://localhost:8080/"
        },
        "id": "M2Q8i7kzGC6f",
        "outputId": "5fc55c7f-f970-475f-fad3-ddd8ccaeb81a"
      },
      "execution_count": 1,
      "outputs": [
        {
          "output_type": "execute_result",
          "data": {
            "text/plain": [
              "[[0, 1], [1, 2], [0, 3], [3, 4], [3, 6], [3, 7], [4, 2], [4, 5], [5, 2]]"
            ]
          },
          "metadata": {},
          "execution_count": 1
        }
      ]
    },
    {
      "cell_type": "code",
      "source": [
        "# Convert Array of Edges -> Adjacency Matrix\n",
        "\n",
        "M = []\n",
        "for i in range(n):\n",
        "  M.append([0] * n)\n",
        "\n",
        "# u => row, v=> Coloumn\n",
        "for u, v in A:\n",
        "  # directed graph\n",
        "  M[u][v] = 1\n",
        "\n",
        "  # undirected graph\n",
        "  M[v][u] = 1\n",
        "\n",
        "M"
      ],
      "metadata": {
        "colab": {
          "base_uri": "https://localhost:8080/"
        },
        "id": "ZXtMWgnFGo6u",
        "outputId": "46ca77ce-bd8e-40f6-8d63-92d0312abc5e"
      },
      "execution_count": 7,
      "outputs": [
        {
          "output_type": "execute_result",
          "data": {
            "text/plain": [
              "[[0, 1, 0, 1, 0, 0, 0, 0],\n",
              " [1, 0, 1, 0, 0, 0, 0, 0],\n",
              " [0, 1, 0, 0, 1, 1, 0, 0],\n",
              " [1, 0, 0, 0, 1, 0, 1, 1],\n",
              " [0, 0, 1, 1, 0, 1, 0, 0],\n",
              " [0, 0, 1, 0, 1, 0, 0, 0],\n",
              " [0, 0, 0, 1, 0, 0, 0, 0],\n",
              " [0, 0, 0, 1, 0, 0, 0, 0]]"
            ]
          },
          "metadata": {},
          "execution_count": 7
        }
      ]
    },
    {
      "cell_type": "code",
      "source": [
        "# Convert array of edges -> Adjacency list\n",
        "from collections import defaultdict\n",
        "\n",
        "D = defaultdict(list)\n",
        "\n",
        "for u, v in A:\n",
        "  # directed graph\n",
        "  D[u].append(v)\n",
        "  # undirected graph\n",
        "  # D[v].append(u)\n",
        "D\n",
        "\n"
      ],
      "metadata": {
        "colab": {
          "base_uri": "https://localhost:8080/"
        },
        "id": "ZnO7Vam7IHit",
        "outputId": "0060ea05-3a73-4881-d04c-f7965cfaf338"
      },
      "execution_count": 10,
      "outputs": [
        {
          "output_type": "execute_result",
          "data": {
            "text/plain": [
              "defaultdict(list, {0: [1, 3], 1: [2], 3: [4, 6, 7], 4: [2, 5], 5: [2]})"
            ]
          },
          "metadata": {},
          "execution_count": 10
        }
      ]
    },
    {
      "cell_type": "code",
      "source": [
        "# DFS with recursion - O(V + E) where V  is the number if nodes and E is number of edges\n",
        "def def_recursive(node):\n",
        "  print(node)  # process logic\n",
        "  for nei_node in D[node]:\n",
        "    if nei_node not in seen:\n",
        "      seen.add(nei_node)\n",
        "      def_recursive(nei_node)\n",
        "\n",
        "\n",
        "source = 0\n",
        "seen = set()\n",
        "seen.add(source)\n",
        "\n",
        "def_recursive(source)"
      ],
      "metadata": {
        "colab": {
          "base_uri": "https://localhost:8080/"
        },
        "id": "siZzQGyiJaHs",
        "outputId": "8940ef53-4729-4a75-8f82-39f12401712f"
      },
      "execution_count": 12,
      "outputs": [
        {
          "output_type": "stream",
          "name": "stdout",
          "text": [
            "0\n",
            "1\n",
            "2\n",
            "3\n",
            "4\n",
            "5\n",
            "6\n",
            "7\n"
          ]
        }
      ]
    },
    {
      "cell_type": "code",
      "source": [
        "# Iterative DFS with Stack - O (V + E)\n",
        "\n",
        "source = 0\n",
        "seen = set()\n",
        "seen.add(source)\n",
        "stk = [source]\n",
        "\n",
        "while stk:\n",
        "  node = stk.pop()\n",
        "  print(node) # processing logic\n",
        "  for nei_node in D[node]:\n",
        "    if nei_node not in seen:\n",
        "      seen.add(nei_node)\n",
        "      stk.append(nei_node)"
      ],
      "metadata": {
        "colab": {
          "base_uri": "https://localhost:8080/"
        },
        "id": "thp0B0MwKUHk",
        "outputId": "c8994aaa-09d4-4d78-cce5-bbb51fc21d9a"
      },
      "execution_count": 14,
      "outputs": [
        {
          "output_type": "stream",
          "name": "stdout",
          "text": [
            "0\n",
            "3\n",
            "7\n",
            "6\n",
            "4\n",
            "5\n",
            "2\n",
            "1\n"
          ]
        }
      ]
    },
    {
      "cell_type": "code",
      "source": [
        "#BFS (Queue) => Q(V + E)\n",
        "from collections import deque\n",
        "\n",
        "source = 0\n",
        "seen = set()\n",
        "seen.add(source)\n",
        "q = deque()\n",
        "q.append(source)\n",
        "\n",
        "while q:\n",
        "  node = q.popleft()\n",
        "  print(node)\n",
        "  for nei_node in D[node]:\n",
        "    if nei_node not in seen:\n",
        "      seen.add(nei_node)\n",
        "      q.append(nei_node)\n"
      ],
      "metadata": {
        "colab": {
          "base_uri": "https://localhost:8080/"
        },
        "id": "AKQvtLpfLMfn",
        "outputId": "787a71a1-a346-49ce-f9d2-70654bb6d644"
      },
      "execution_count": 15,
      "outputs": [
        {
          "output_type": "stream",
          "name": "stdout",
          "text": [
            "0\n",
            "1\n",
            "3\n",
            "2\n",
            "4\n",
            "6\n",
            "7\n",
            "5\n"
          ]
        }
      ]
    },
    {
      "cell_type": "code",
      "source": [
        "class Node:\n",
        "  def __init__(self, value) -> None:\n",
        "    self.value = value\n",
        "    self.neighbors = []\n",
        "\n",
        "  def __str__(self) -> str:\n",
        "    return f'Node({self.value})'\n",
        "\n",
        "  def display(self):\n",
        "    connections = [node.value for node in self.neighbors]\n",
        "    return f'{self.value} is connected to : {connections}'\n",
        "\n",
        "\n",
        "A = Node('A')\n",
        "B = Node('B')\n",
        "C = Node('C')\n",
        "D = Node('D')\n",
        "\n",
        "A.neighbors.append(B)\n",
        "B.neighbors.append(A)\n",
        "\n",
        "C.neighbors.append(D)\n",
        "D.neighbors.append(C)\n",
        "\n",
        "A.display()"
      ],
      "metadata": {
        "colab": {
          "base_uri": "https://localhost:8080/",
          "height": 35
        },
        "id": "QXadz-jGMTPT",
        "outputId": "9db7af89-7eb1-4a3f-f542-04d24ec726f4"
      },
      "execution_count": 18,
      "outputs": [
        {
          "output_type": "execute_result",
          "data": {
            "text/plain": [
              "\"A is connected to : ['B']\""
            ],
            "application/vnd.google.colaboratory.intrinsic+json": {
              "type": "string"
            }
          },
          "metadata": {},
          "execution_count": 18
        }
      ]
    }
  ]
}