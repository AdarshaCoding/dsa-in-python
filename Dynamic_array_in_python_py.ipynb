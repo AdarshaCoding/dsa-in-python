{
  "nbformat": 4,
  "nbformat_minor": 0,
  "metadata": {
    "colab": {
      "provenance": [],
      "authorship_tag": "ABX9TyOEfC0JsHbEmmZsczRVe3fw",
      "include_colab_link": true
    },
    "kernelspec": {
      "name": "python3",
      "display_name": "Python 3"
    },
    "language_info": {
      "name": "python"
    }
  },
  "cells": [
    {
      "cell_type": "markdown",
      "metadata": {
        "id": "view-in-github",
        "colab_type": "text"
      },
      "source": [
        "<a href=\"https://colab.research.google.com/github/AdarshaCoding/dsa-in-python/blob/main/Dynamic_array_in_python_py.ipynb\" target=\"_parent\"><img src=\"https://colab.research.google.com/assets/colab-badge.svg\" alt=\"Open In Colab\"/></a>"
      ]
    },
    {
      "cell_type": "code",
      "source": [
        "L = [1, 2, 3, 4, 5]\n",
        "# L.reverse()\n",
        "\n",
        "# Using left and righ pointer - Time: O(n), Space: O(1)\n",
        "left = 0\n",
        "right = len(L)-1\n",
        "\n",
        "while left < right:\n",
        "  L[left], L[right] = L[right], L[left]\n",
        "  left +=1\n",
        "  right -= 1\n",
        "\n",
        "print(L)\n",
        "\n",
        "# print(L[::-1]) # it creates copy of the array\n"
      ],
      "metadata": {
        "colab": {
          "base_uri": "https://localhost:8080/"
        },
        "id": "_PJF5mSrqzdL",
        "outputId": "63c79def-30ed-4d93-f275-4a070792f3f7"
      },
      "execution_count": null,
      "outputs": [
        {
          "output_type": "stream",
          "name": "stdout",
          "text": [
            "[5, 4, 3, 2, 1]\n"
          ]
        }
      ]
    }
  ]
}